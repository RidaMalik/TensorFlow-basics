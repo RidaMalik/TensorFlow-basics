{
  "cells": [
    {
      "metadata": {
        "trusted": true
      },
      "cell_type": "code",
      "source": "import tensorflow as tf",
      "execution_count": 1,
      "outputs": []
    },
    {
      "metadata": {
        "trusted": true
      },
      "cell_type": "code",
      "source": "hello = tf.constant('hello world')\nprint(hello)",
      "execution_count": 20,
      "outputs": [
        {
          "output_type": "stream",
          "text": "tf.Tensor(b'hello world', shape=(), dtype=string)\n",
          "name": "stdout"
        }
      ]
    },
    {
      "metadata": {
        "trusted": true
      },
      "cell_type": "code",
      "source": "print(hello.numpy())",
      "execution_count": 21,
      "outputs": [
        {
          "output_type": "stream",
          "text": "b'hello world'\n",
          "name": "stdout"
        }
      ]
    },
    {
      "metadata": {
        "trusted": true
      },
      "cell_type": "code",
      "source": "from __future__ import print_function",
      "execution_count": 4,
      "outputs": []
    },
    {
      "metadata": {
        "trusted": true
      },
      "cell_type": "code",
      "source": "a=tf.constant(10)\nb=tf.constant(20)\nc=tf.constant(30)",
      "execution_count": 16,
      "outputs": []
    },
    {
      "metadata": {
        "trusted": true
      },
      "cell_type": "code",
      "source": "add=tf.add(a,b,c)\nsub=tf.subtract(a,b)\nmul=tf.multiply(b,a)\ndiv=tf.divide(c,a)\nprint(\"add=\", add.numpy())\nprint(\"sub=\", sub.numpy())\nprint(\"mul=\", mul.numpy())\nprint(\"div=\", div.numpy())",
      "execution_count": 17,
      "outputs": [
        {
          "output_type": "stream",
          "text": "add = 30\nsub = -10\nmul = 200\ndiv = 3.0\n",
          "name": "stdout"
        }
      ]
    },
    {
      "metadata": {
        "trusted": true
      },
      "cell_type": "code",
      "source": "mean = tf.reduce_mean([a, b, c])\nsum = tf.reduce_sum([a, b, c])\nprint(\"mean =\", mean.numpy())\nprint(\"sum =\", sum.numpy())",
      "execution_count": 18,
      "outputs": [
        {
          "output_type": "stream",
          "text": "mean = 20\nsum = 60\n",
          "name": "stdout"
        }
      ]
    },
    {
      "metadata": {
        "trusted": true
      },
      "cell_type": "code",
      "source": "x=tf.constant([1,2,3])\ny=tf.constant([1,2,3])\nz=tf.add(x,y)\nprint(z.numpy())",
      "execution_count": 25,
      "outputs": [
        {
          "output_type": "stream",
          "text": "[2 4 6]\n",
          "name": "stdout"
        }
      ]
    },
    {
      "metadata": {
        "trusted": true
      },
      "cell_type": "code",
      "source": "",
      "execution_count": null,
      "outputs": []
    }
  ],
  "metadata": {
    "kernelspec": {
      "name": "python36",
      "display_name": "Python 3.6",
      "language": "python"
    },
    "language_info": {
      "mimetype": "text/x-python",
      "nbconvert_exporter": "python",
      "name": "python",
      "pygments_lexer": "ipython3",
      "version": "3.6.6",
      "file_extension": ".py",
      "codemirror_mode": {
        "version": 3,
        "name": "ipython"
      }
    }
  },
  "nbformat": 4,
  "nbformat_minor": 2
}